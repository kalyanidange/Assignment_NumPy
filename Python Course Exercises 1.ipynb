{
 "cells": [
  {
   "cell_type": "markdown",
   "id": "90aec7b1",
   "metadata": {},
   "source": [
    "## Python Course Exercises 1"
   ]
  },
  {
   "cell_type": "markdown",
   "id": "cabbcd59",
   "metadata": {},
   "source": [
    "What is 7 to the power of 4?"
   ]
  },
  {
   "cell_type": "code",
   "execution_count": 4,
   "id": "4058c764",
   "metadata": {},
   "outputs": [
    {
     "data": {
      "text/plain": [
       "2401"
      ]
     },
     "execution_count": 4,
     "metadata": {},
     "output_type": "execute_result"
    }
   ],
   "source": [
    "7**4"
   ]
  },
  {
   "cell_type": "markdown",
   "id": "dfb8efc4",
   "metadata": {},
   "source": [
    "Split this string:"
   ]
  },
  {
   "cell_type": "code",
   "execution_count": 5,
   "id": "a4079dd0",
   "metadata": {},
   "outputs": [],
   "source": [
    "s = \"Hi there Yogesh!\""
   ]
  },
  {
   "cell_type": "markdown",
   "id": "a949bf06",
   "metadata": {},
   "source": [
    "in to a list"
   ]
  },
  {
   "cell_type": "code",
   "execution_count": 8,
   "id": "3a12186c",
   "metadata": {},
   "outputs": [
    {
     "data": {
      "text/plain": [
       "['Hi', 'there', 'Yogesh!']"
      ]
     },
     "execution_count": 8,
     "metadata": {},
     "output_type": "execute_result"
    }
   ],
   "source": [
    "s.split()"
   ]
  },
  {
   "cell_type": "markdown",
   "id": "36d1e33b",
   "metadata": {},
   "source": [
    "Given the variables:"
   ]
  },
  {
   "cell_type": "code",
   "execution_count": 9,
   "id": "e2d3ad27",
   "metadata": {},
   "outputs": [],
   "source": [
    "planet = \"Earth\"\n",
    "diameter = 12742"
   ]
  },
  {
   "cell_type": "markdown",
   "id": "954c52d0",
   "metadata": {},
   "source": [
    "Use .format() to print the following string:"
   ]
  },
  {
   "cell_type": "markdown",
   "id": "af2e7bfd",
   "metadata": {},
   "source": [
    " The diameter of Earth is 12742 kilometers.\n"
   ]
  },
  {
   "cell_type": "code",
   "execution_count": 12,
   "id": "e3933df2",
   "metadata": {},
   "outputs": [
    {
     "name": "stdout",
     "output_type": "stream",
     "text": [
      "The diameter of Earth is 12742 kilometers.\n"
     ]
    }
   ],
   "source": [
    "print (\"The diameter of {} is {} kilometers.\".format(planet,diameter))"
   ]
  },
  {
   "cell_type": "markdown",
   "id": "6fb6b24b",
   "metadata": {},
   "source": [
    " Given this nested list, use indexing to grab the word \"hello\" "
   ]
  },
  {
   "cell_type": "code",
   "execution_count": 2,
   "id": "bccae95c",
   "metadata": {},
   "outputs": [],
   "source": [
    "lst = [1,2,[3,4],[5,[100,200,['hello']],23,11],1,7]"
   ]
  },
  {
   "cell_type": "code",
   "execution_count": 3,
   "id": "6b93c6c0",
   "metadata": {},
   "outputs": [
    {
     "data": {
      "text/plain": [
       "'hello'"
      ]
     },
     "execution_count": 3,
     "metadata": {},
     "output_type": "execute_result"
    }
   ],
   "source": [
    "lst[3][1][2][0]"
   ]
  },
  {
   "cell_type": "markdown",
   "id": "53e93b82",
   "metadata": {},
   "source": [
    "Given this nested dictionary grab the word \"hello\". Be prepared, this will be annoying/tricky"
   ]
  },
  {
   "cell_type": "code",
   "execution_count": 5,
   "id": "4b8a2a25",
   "metadata": {},
   "outputs": [],
   "source": [
    "d = {'k1':[1,2,3,{'tricky':['oh','man','inception',{'target':[1,2,3,'hello']}]}]}"
   ]
  },
  {
   "cell_type": "code",
   "execution_count": 7,
   "id": "7d22c21c",
   "metadata": {},
   "outputs": [
    {
     "data": {
      "text/plain": [
       "'hello'"
      ]
     },
     "execution_count": 7,
     "metadata": {},
     "output_type": "execute_result"
    }
   ],
   "source": [
    "d['k1'][3]['tricky'][3]['target'][3]"
   ]
  },
  {
   "cell_type": "markdown",
   "id": "eff28f12",
   "metadata": {},
   "source": [
    "What is the main difference between a tuple and a list?"
   ]
  },
  {
   "cell_type": "markdown",
   "id": "fef02539",
   "metadata": {},
   "source": [
    " Tuple is immutable"
   ]
  },
  {
   "cell_type": "markdown",
   "id": "ea43d1b8",
   "metadata": {},
   "source": [
    "List is mutable"
   ]
  },
  {
   "cell_type": "markdown",
   "id": "6ae7fc59",
   "metadata": {},
   "source": [
    " Create a function that grabs the email website domain from a string in the form: "
   ]
  },
  {
   "cell_type": "markdown",
   "id": "3617cd50",
   "metadata": {},
   "source": [
    "#user@domain.com"
   ]
  },
  {
   "cell_type": "markdown",
   "id": "7cf74e01",
   "metadata": {},
   "source": [
    "So for example, passing \"user@domain.com\" would return: domain.com"
   ]
  },
  {
   "cell_type": "code",
   "execution_count": 10,
   "id": "9d71a8dc",
   "metadata": {},
   "outputs": [],
   "source": [
    "def domainGet(email):\n",
    "    return email.split('@')[-1]"
   ]
  },
  {
   "cell_type": "code",
   "execution_count": 12,
   "id": "cebb7d82",
   "metadata": {},
   "outputs": [
    {
     "data": {
      "text/plain": [
       "'gmail.com'"
      ]
     },
     "execution_count": 12,
     "metadata": {},
     "output_type": "execute_result"
    }
   ],
   "source": [
    "domainGet('user@gmail.com')"
   ]
  },
  {
   "cell_type": "markdown",
   "id": "469a0f7c",
   "metadata": {},
   "source": [
    "Create a basic function that returns True if the word 'dog' is contained in the input string. Don't worry about edge cases like a punctuation being attached to the word dog, but do account for capitalization."
   ]
  },
  {
   "cell_type": "markdown",
   "id": "090037c0",
   "metadata": {},
   "source": [
    "findDog('Is there a dog here?')"
   ]
  },
  {
   "cell_type": "code",
   "execution_count": 14,
   "id": "82f21f4e",
   "metadata": {},
   "outputs": [],
   "source": [
    "def findDog(st):\n",
    "    return 'dog' in st.lower().split()"
   ]
  },
  {
   "cell_type": "code",
   "execution_count": 15,
   "id": "fdf8bf7a",
   "metadata": {},
   "outputs": [
    {
     "data": {
      "text/plain": [
       "True"
      ]
     },
     "execution_count": 15,
     "metadata": {},
     "output_type": "execute_result"
    }
   ],
   "source": [
    "findDog('Is there a dog here?')"
   ]
  },
  {
   "cell_type": "markdown",
   "id": "0057a0bc",
   "metadata": {},
   "source": [
    "Create a function that counts the number of times the word \"dog\" occurs in a string. Again ignore edge cases."
   ]
  },
  {
   "cell_type": "markdown",
   "id": "d90a99d4",
   "metadata": {},
   "source": [
    "countDog('This dog runs faster than the other dog dude!')"
   ]
  },
  {
   "cell_type": "code",
   "execution_count": 7,
   "id": "1e6cf5c5",
   "metadata": {},
   "outputs": [],
   "source": [
    "def countDog(st):\n",
    "    count = 0\n",
    "    for word in st.lower().split():\n",
    "        if word == 'dog':\n",
    "            count += 1\n",
    "    return count"
   ]
  },
  {
   "cell_type": "code",
   "execution_count": 8,
   "id": "db8e2aee",
   "metadata": {},
   "outputs": [
    {
     "data": {
      "text/plain": [
       "2"
      ]
     },
     "execution_count": 8,
     "metadata": {},
     "output_type": "execute_result"
    }
   ],
   "source": [
    "countDog('This dog runs faster than the other dog dude!')"
   ]
  },
  {
   "cell_type": "markdown",
   "id": "09267829",
   "metadata": {},
   "source": [
    "Use lambda expressions and the filter() function to filter out words from a list that don't start with the letter 's'. For example:"
   ]
  },
  {
   "cell_type": "code",
   "execution_count": null,
   "id": "a70c3fd0",
   "metadata": {},
   "outputs": [],
   "source": [
    "should be filtered down to:\n",
    "\n",
    "['soup','salad']"
   ]
  },
  {
   "cell_type": "code",
   "execution_count": 9,
   "id": "ccb251c7",
   "metadata": {},
   "outputs": [],
   "source": [
    "seq = ['soup','dog','salad','cat','great']"
   ]
  },
  {
   "cell_type": "code",
   "execution_count": 11,
   "id": "0f990dac",
   "metadata": {},
   "outputs": [
    {
     "data": {
      "text/plain": [
       "['soup', 'salad']"
      ]
     },
     "execution_count": 11,
     "metadata": {},
     "output_type": "execute_result"
    }
   ],
   "source": [
    "list(filter(lambda word :word[0]=='s',seq))"
   ]
  },
  {
   "cell_type": "markdown",
   "id": "0e775c6a",
   "metadata": {},
   "source": [
    "Final Problem"
   ]
  },
  {
   "cell_type": "markdown",
   "id": "65779064",
   "metadata": {},
   "source": [
    "You are driving a little too fast, and a police officer stops you. Write a function to return one of 3 possible results: \"No ticket\", \"Small ticket\", or \"Big Ticket\". If your speed is 60 or less, the result is \"No Ticket\". If speed is between 61 and 80 inclusive, the result is \"Small Ticket\". If speed is 81 or more, the result is \"Big Ticket\". Unless it is your birthday (encoded as a boolean value in the parameters of the function) -- on your birthday, your speed can be 5 higher in all cases."
   ]
  },
  {
   "cell_type": "code",
   "execution_count": 32,
   "id": "8d930bd0",
   "metadata": {},
   "outputs": [],
   "source": [
    "def catch_speed(speed,birthday):\n",
    "    if birthday:\n",
    "        new_speed=speed-5\n",
    "    else:\n",
    "        new_speed=speed\n",
    "    if new_speed>80:\n",
    "        print(\"BIG TICKET\")\n",
    "    elif new_speed>60:\n",
    "            print(\"SMALL TICKET\")\n",
    "    else:\n",
    "        print(\"NO TICKET\")\n"
   ]
  },
  {
   "cell_type": "code",
   "execution_count": 34,
   "id": "2e5f04ff",
   "metadata": {},
   "outputs": [
    {
     "name": "stdout",
     "output_type": "stream",
     "text": [
      "SMALL TICKET\n"
     ]
    }
   ],
   "source": [
    "catch_speed(81,True)"
   ]
  },
  {
   "cell_type": "code",
   "execution_count": 35,
   "id": "6b2489be",
   "metadata": {},
   "outputs": [
    {
     "name": "stdout",
     "output_type": "stream",
     "text": [
      "BIG TICKET\n"
     ]
    }
   ],
   "source": [
    "catch_speed(81,False)"
   ]
  },
  {
   "cell_type": "code",
   "execution_count": 36,
   "id": "f4ab57f6",
   "metadata": {},
   "outputs": [
    {
     "name": "stdout",
     "output_type": "stream",
     "text": [
      "NO TICKET\n"
     ]
    }
   ],
   "source": [
    "catch_speed(64,True)"
   ]
  },
  {
   "cell_type": "code",
   "execution_count": null,
   "id": "d414e3f3",
   "metadata": {},
   "outputs": [],
   "source": []
  }
 ],
 "metadata": {
  "kernelspec": {
   "display_name": "Python 3 (ipykernel)",
   "language": "python",
   "name": "python3"
  },
  "language_info": {
   "codemirror_mode": {
    "name": "ipython",
    "version": 3
   },
   "file_extension": ".py",
   "mimetype": "text/x-python",
   "name": "python",
   "nbconvert_exporter": "python",
   "pygments_lexer": "ipython3",
   "version": "3.11.4"
  }
 },
 "nbformat": 4,
 "nbformat_minor": 5
}
